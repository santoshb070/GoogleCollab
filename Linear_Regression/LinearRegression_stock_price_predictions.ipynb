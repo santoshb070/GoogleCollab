{
  "nbformat": 4,
  "nbformat_minor": 0,
  "metadata": {
    "colab": {
      "name": "LinearRegression_stock_price_predictions.ipynb",
      "version": "0.3.2",
      "provenance": [],
      "collapsed_sections": [],
      "include_colab_link": true
    },
    "kernelspec": {
      "name": "python3",
      "display_name": "Python 3"
    }
  },
  "cells": [
    {
      "cell_type": "markdown",
      "metadata": {
        "id": "view-in-github",
        "colab_type": "text"
      },
      "source": [
        "[View in Colaboratory](https://colab.research.google.com/github/santoshb070/GoogleCollab/blob/dev/LinearRegression_stock_price_predictions.ipynb)"
      ]
    },
    {
      "metadata": {
        "id": "4b-gEDEVh2rm",
        "colab_type": "text"
      },
      "cell_type": "markdown",
      "source": [
        "**Imports**"
      ]
    },
    {
      "metadata": {
        "id": "TUUAGBvKUKyD",
        "colab_type": "code",
        "colab": {
          "base_uri": "https://localhost:8080/",
          "height": 255
        },
        "outputId": "cf0d2fb4-dd60-4da9-e23a-780fbcb6f472"
      },
      "cell_type": "code",
      "source": [
        "import numpy as np\n",
        "import tensorflow as tp\n",
        "import pandas as pd\n",
        "import matplotlib as mp\n",
        "!pip install quandl\n",
        "import quandl\n",
        "!pip install scikit-learn"
      ],
      "execution_count": 22,
      "outputs": [
        {
          "output_type": "stream",
          "text": [
            "Requirement already satisfied: quandl in /usr/local/lib/python3.6/dist-packages (3.4.0)\r\n",
            "Requirement already satisfied: numpy>=1.8 in /usr/local/lib/python3.6/dist-packages (from quandl) (1.14.5)\r\n",
            "Requirement already satisfied: pandas>=0.14 in /usr/local/lib/python3.6/dist-packages (from quandl) (0.22.0)\n",
            "Requirement already satisfied: python-dateutil in /usr/local/lib/python3.6/dist-packages (from quandl) (2.5.3)\n",
            "Requirement already satisfied: more-itertools in /usr/local/lib/python3.6/dist-packages (from quandl) (4.2.0)\n",
            "Requirement already satisfied: inflection>=0.3.1 in /usr/local/lib/python3.6/dist-packages (from quandl) (0.3.1)\n",
            "Requirement already satisfied: requests>=2.7.0 in /usr/local/lib/python3.6/dist-packages (from quandl) (2.18.4)\n",
            "Requirement already satisfied: six in /usr/local/lib/python3.6/dist-packages (from quandl) (1.11.0)\n",
            "Requirement already satisfied: pytz>=2011k in /usr/local/lib/python3.6/dist-packages (from pandas>=0.14->quandl) (2018.5)\n",
            "Requirement already satisfied: idna<2.7,>=2.5 in /usr/local/lib/python3.6/dist-packages (from requests>=2.7.0->quandl) (2.6)\n",
            "Requirement already satisfied: urllib3<1.23,>=1.21.1 in /usr/local/lib/python3.6/dist-packages (from requests>=2.7.0->quandl) (1.22)\n",
            "Requirement already satisfied: certifi>=2017.4.17 in /usr/local/lib/python3.6/dist-packages (from requests>=2.7.0->quandl) (2018.4.16)\n",
            "Requirement already satisfied: chardet<3.1.0,>=3.0.2 in /usr/local/lib/python3.6/dist-packages (from requests>=2.7.0->quandl) (3.0.4)\n",
            "Requirement already satisfied: scikit-learn in /usr/local/lib/python3.6/dist-packages (0.19.1)\n"
          ],
          "name": "stdout"
        }
      ]
    },
    {
      "metadata": {
        "id": "IsxrlBZRiQSp",
        "colab_type": "text"
      },
      "cell_type": "markdown",
      "source": [
        "**Linear regression is useful for taking continuos data**\n",
        "1. Find the equation that best fits the data\n",
        "2.able to forecast out a specific value\n",
        "\n",
        "Reading Google stock price data and doing some analysis on it"
      ]
    },
    {
      "metadata": {
        "id": "Q3OS5IfEin9R",
        "colab_type": "code",
        "colab": {
          "base_uri": "https://localhost:8080/",
          "height": 408
        },
        "outputId": "d076f308-e96c-4b62-dcee-52aceb5e35a6"
      },
      "cell_type": "code",
      "source": [
        "df = quandl.get(\"WIKI/GOOGL\")\n",
        "print(df.head())\n"
      ],
      "execution_count": 15,
      "outputs": [
        {
          "output_type": "stream",
          "text": [
            "              Open    High     Low    Close      Volume  Ex-Dividend  \\\n",
            "Date                                                                   \n",
            "2004-08-19  100.01  104.06   95.96  100.335  44659000.0          0.0   \n",
            "2004-08-20  101.01  109.08  100.50  108.310  22834300.0          0.0   \n",
            "2004-08-23  110.76  113.48  109.05  109.400  18256100.0          0.0   \n",
            "2004-08-24  111.24  111.60  103.57  104.870  15247300.0          0.0   \n",
            "2004-08-25  104.76  108.00  103.88  106.000   9188600.0          0.0   \n",
            "\n",
            "            Split Ratio  Adj. Open  Adj. High   Adj. Low  Adj. Close  \\\n",
            "Date                                                                   \n",
            "2004-08-19          1.0  50.159839  52.191109  48.128568   50.322842   \n",
            "2004-08-20          1.0  50.661387  54.708881  50.405597   54.322689   \n",
            "2004-08-23          1.0  55.551482  56.915693  54.693835   54.869377   \n",
            "2004-08-24          1.0  55.792225  55.972783  51.945350   52.597363   \n",
            "2004-08-25          1.0  52.542193  54.167209  52.100830   53.164113   \n",
            "\n",
            "            Adj. Volume  \n",
            "Date                     \n",
            "2004-08-19   44659000.0  \n",
            "2004-08-20   22834300.0  \n",
            "2004-08-23   18256100.0  \n",
            "2004-08-24   15247300.0  \n",
            "2004-08-25    9188600.0  \n"
          ],
          "name": "stdout"
        }
      ]
    },
    {
      "metadata": {
        "id": "qbV22hNmlPmM",
        "colab_type": "text"
      },
      "cell_type": "markdown",
      "source": [
        "Here in our data we are having 2 kinds of data like the adjusted data as well as the regular data\n",
        "where \n",
        "regular data is for data that is giving information like the low and high, open and close values of a particular Google stock for a day\n",
        "\n",
        "whereas\n",
        "#adjusted data \n",
        "it is the data about stock splits where the stock value gets halved overtime but the companu value remains the same \n",
        "for example a single stock gets into 2 stocks having price of it becoming halved."
      ]
    },
    {
      "metadata": {
        "id": "I42xDBg_lPjD",
        "colab_type": "text"
      },
      "cell_type": "markdown",
      "source": [
        ""
      ]
    },
    {
      "metadata": {
        "id": "sLDXbSUskwiT",
        "colab_type": "code",
        "colab": {
          "base_uri": "https://localhost:8080/",
          "height": 136
        },
        "outputId": "bf3133c8-abe7-4379-a67f-43c4ff58b34b"
      },
      "cell_type": "code",
      "source": [
        "df = df[['Adj. Open',  'Adj. High',  'Adj. Low',  'Adj. Close', 'Adj. Volume']]\n",
        "print(df.head())"
      ],
      "execution_count": 14,
      "outputs": [
        {
          "output_type": "stream",
          "text": [
            "            Adj. Open  Adj. High   Adj. Low  Adj. Close  Adj. Volume\n",
            "Date                                                                \n",
            "2004-08-19  50.159839  52.191109  48.128568   50.322842   44659000.0\n",
            "2004-08-20  50.661387  54.708881  50.405597   54.322689   22834300.0\n",
            "2004-08-23  55.551482  56.915693  54.693835   54.869377   18256100.0\n",
            "2004-08-24  55.792225  55.972783  51.945350   52.597363   15247300.0\n",
            "2004-08-25  52.542193  54.167209  52.100830   53.164113    9188600.0\n"
          ],
          "name": "stdout"
        }
      ]
    },
    {
      "metadata": {
        "id": "-gjmsB5Jmhl9",
        "colab_type": "text"
      },
      "cell_type": "markdown",
      "source": [
        "#How do you know if you have meaningfull data?\n",
        "\n",
        "If we consider in stock market preiction taking the historical data and expecting the future price is not a good idea\n",
        "\n",
        "#so what is the alternative?\n",
        "\n",
        "Price change and volume over time is a bit better place where we can start."
      ]
    },
    {
      "metadata": {
        "id": "sosegwRimo5q",
        "colab_type": "code",
        "colab": {
          "base_uri": "https://localhost:8080/",
          "height": 408
        },
        "outputId": "2632d596-7c59-4db7-c644-70c9bc579aa2"
      },
      "cell_type": "code",
      "source": [
        "df['HL_PCT'] = (df['Adj. High'] - df['Adj. Low']) / df['Adj. Close'] * 100.0\n",
        "print(df.head())"
      ],
      "execution_count": 17,
      "outputs": [
        {
          "output_type": "stream",
          "text": [
            "              Open    High     Low    Close      Volume  Ex-Dividend  \\\n",
            "Date                                                                   \n",
            "2004-08-19  100.01  104.06   95.96  100.335  44659000.0          0.0   \n",
            "2004-08-20  101.01  109.08  100.50  108.310  22834300.0          0.0   \n",
            "2004-08-23  110.76  113.48  109.05  109.400  18256100.0          0.0   \n",
            "2004-08-24  111.24  111.60  103.57  104.870  15247300.0          0.0   \n",
            "2004-08-25  104.76  108.00  103.88  106.000   9188600.0          0.0   \n",
            "\n",
            "            Split Ratio  Adj. Open  Adj. High   Adj. Low  Adj. Close  \\\n",
            "Date                                                                   \n",
            "2004-08-19          1.0  50.159839  52.191109  48.128568   50.322842   \n",
            "2004-08-20          1.0  50.661387  54.708881  50.405597   54.322689   \n",
            "2004-08-23          1.0  55.551482  56.915693  54.693835   54.869377   \n",
            "2004-08-24          1.0  55.792225  55.972783  51.945350   52.597363   \n",
            "2004-08-25          1.0  52.542193  54.167209  52.100830   53.164113   \n",
            "\n",
            "            Adj. Volume    HL_PCT  \n",
            "Date                               \n",
            "2004-08-19   44659000.0  8.072956  \n",
            "2004-08-20   22834300.0  7.921706  \n",
            "2004-08-23   18256100.0  4.049360  \n",
            "2004-08-24   15247300.0  7.657099  \n",
            "2004-08-25    9188600.0  3.886792  \n"
          ],
          "name": "stdout"
        }
      ]
    },
    {
      "metadata": {
        "id": "nMcyFIVCn16T",
        "colab_type": "code",
        "colab": {}
      },
      "cell_type": "code",
      "source": [
        "df['PCT_change'] = (df['Adj. Close'] - df['Adj. Open']) / df['Adj. Open'] * 100.0"
      ],
      "execution_count": 0,
      "outputs": []
    },
    {
      "metadata": {
        "id": "r0DYSB9rn65_",
        "colab_type": "code",
        "colab": {
          "base_uri": "https://localhost:8080/",
          "height": 136
        },
        "outputId": "41afd853-59aa-4110-f1d3-77fe6cec339d"
      },
      "cell_type": "code",
      "source": [
        "df = df[['Adj. Close', 'HL_PCT', 'PCT_change', 'Adj. Volume']]\n",
        "print(df.head())"
      ],
      "execution_count": 19,
      "outputs": [
        {
          "output_type": "stream",
          "text": [
            "            Adj. Close    HL_PCT  PCT_change  Adj. Volume\n",
            "Date                                                     \n",
            "2004-08-19   50.322842  8.072956    0.324968   44659000.0\n",
            "2004-08-20   54.322689  7.921706    7.227007   22834300.0\n",
            "2004-08-23   54.869377  4.049360   -1.227880   18256100.0\n",
            "2004-08-24   52.597363  7.657099   -5.726357   15247300.0\n",
            "2004-08-25   53.164113  3.886792    1.183658    9188600.0\n"
          ],
          "name": "stdout"
        }
      ]
    },
    {
      "metadata": {
        "id": "Stws6BzipYkV",
        "colab_type": "text"
      },
      "cell_type": "markdown",
      "source": [
        "The hope here is that we've grabbed data, decided on the valuable data, created some new valuable data through manipulation, and now we're ready to actually begin the machine learning process with regression. First, we're going to need a few more imports. All imports now:\n",
        "\n",
        "# Features and Labels"
      ]
    },
    {
      "metadata": {
        "id": "rYR6L5dro3V2",
        "colab_type": "code",
        "colab": {
          "base_uri": "https://localhost:8080/",
          "height": 71
        },
        "outputId": "038fa4af-1535-4f25-b2a9-bff98e2e532f"
      },
      "cell_type": "code",
      "source": [
        "import quandl, math\n",
        "import numpy as np\n",
        "import pandas as pd\n",
        "from sklearn import preprocessing, cross_validation, svm\n",
        "from sklearn.linear_model import LinearRegression"
      ],
      "execution_count": 21,
      "outputs": [
        {
          "output_type": "stream",
          "text": [
            "/usr/local/lib/python3.6/dist-packages/sklearn/cross_validation.py:41: DeprecationWarning: This module was deprecated in version 0.18 in favor of the model_selection module into which all the refactored classes and functions are moved. Also note that the interface of the new CV iterators are different from that of this module. This module will be removed in 0.20.\n",
            "  \"This module will be removed in 0.20.\", DeprecationWarning)\n"
          ],
          "name": "stderr"
        }
      ]
    },
    {
      "metadata": {
        "id": "EXt0qgc9pri0",
        "colab_type": "text"
      },
      "cell_type": "markdown",
      "source": [
        " # How does the actual machine learning thing work?\n",
        " With supervised learning, you have features and labels. The features are the descriptive attributes, and the label is what you're attempting to predict or forecast.\n",
        " \n",
        " In our case, what are the features and what is the label? We're trying to predict the price, so is price the label? If so, what are the featuers? When it comes to forecasting out the price, our label, the thing we're hoping to predict, is actually the future price. As such, our features are actually: current price, high minus low percent, and the percent change volatility. The price that is the label shall be the price at some determined point the future. Let's go ahead and add a few new rows:"
      ]
    },
    {
      "metadata": {
        "id": "rP4FFQG1p_Y3",
        "colab_type": "code",
        "colab": {}
      },
      "cell_type": "code",
      "source": [
        "forecast_col = 'Adj. Close'\n",
        "df.fillna(value=-99999, inplace=True)\n",
        "forecast_out = int(math.ceil(0.01 * len(df)))"
      ],
      "execution_count": 0,
      "outputs": []
    },
    {
      "metadata": {
        "id": "Ec7rCp5MqVm0",
        "colab_type": "text"
      },
      "cell_type": "markdown",
      "source": [
        "Here, we define the forecasting column, then we fill any NaN data with -99999. You have a few choice here regarding how to handle missing data. You can't just pass a NaN (Not a Number) datapoint to a machine learning classifier, you have to handle for it. One popular option is to replace missing data with -99,999. With many machine learning classifiers, this will just be recognized and treated as an outlier feature."
      ]
    },
    {
      "metadata": {
        "id": "U6lfyXrwqedd",
        "colab_type": "code",
        "colab": {}
      },
      "cell_type": "code",
      "source": [
        "df['label'] = df[forecast_col].shift(-forecast_out)"
      ],
      "execution_count": 0,
      "outputs": []
    },
    {
      "metadata": {
        "id": "tVDqPPdWr_2P",
        "colab_type": "text"
      },
      "cell_type": "markdown",
      "source": [
        "# Training & Testing"
      ]
    },
    {
      "metadata": {
        "id": "bT7O51Rir_O8",
        "colab_type": "code",
        "colab": {}
      },
      "cell_type": "code",
      "source": [
        "df.dropna(inplace=True)"
      ],
      "execution_count": 0,
      "outputs": []
    },
    {
      "metadata": {
        "id": "UZW-NGursVz1",
        "colab_type": "text"
      },
      "cell_type": "markdown",
      "source": [
        "It is a typical standard with machine learning in code to define X (capital x), as the features, and y (lowercase y) as the label that corresponds to the features. As such, we can define our features and labels like so:"
      ]
    },
    {
      "metadata": {
        "id": "3EWd5x0IsaFx",
        "colab_type": "code",
        "colab": {}
      },
      "cell_type": "code",
      "source": [
        "X = np.array(df.drop(['label'], 1))\n",
        "y = np.array(df['label'])\n",
        "\n",
        "X = preprocessing.scale(X)\n",
        "y = np.array(df['label'])"
      ],
      "execution_count": 0,
      "outputs": []
    },
    {
      "metadata": {
        "id": "fgIzjEa7s44b",
        "colab_type": "code",
        "colab": {
          "base_uri": "https://localhost:8080/",
          "height": 51
        },
        "outputId": "e1e93c85-919c-495a-8b4c-f2561767c56a"
      },
      "cell_type": "code",
      "source": [
        "X_train, X_test, y_train, y_test = cross_validation.train_test_split(X, y, test_size=0.2)\n",
        "\n",
        "clf = svm.SVR()\n",
        "clf.fit(X_train, y_train)"
      ],
      "execution_count": 34,
      "outputs": [
        {
          "output_type": "execute_result",
          "data": {
            "text/plain": [
              "SVR(C=1.0, cache_size=200, coef0=0.0, degree=3, epsilon=0.1, gamma='auto',\n",
              "  kernel='rbf', max_iter=-1, shrinking=True, tol=0.001, verbose=False)"
            ]
          },
          "metadata": {
            "tags": []
          },
          "execution_count": 34
        }
      ]
    },
    {
      "metadata": {
        "id": "J77qERY0tJVj",
        "colab_type": "code",
        "colab": {
          "base_uri": "https://localhost:8080/",
          "height": 34
        },
        "outputId": "9e73cc85-dbfa-4456-c280-154dace3067b"
      },
      "cell_type": "code",
      "source": [
        "confidence = clf.score(X_test, y_test)\n",
        "print(confidence)"
      ],
      "execution_count": 35,
      "outputs": [
        {
          "output_type": "stream",
          "text": [
            "0.780944065585251\n"
          ],
          "name": "stdout"
        }
      ]
    },
    {
      "metadata": {
        "id": "XnZv49k7tP39",
        "colab_type": "code",
        "colab": {
          "base_uri": "https://localhost:8080/",
          "height": 34
        },
        "outputId": "0a9e3d33-bfec-45fc-f487-ef15bef88422"
      },
      "cell_type": "code",
      "source": [
        "clf = LinearRegression()\n",
        "clf.fit(X_train, y_train)\n",
        "\n",
        "confidence = clf.score(X_test,y_test)\n",
        "print(confidence)\n",
        "\n",
        "clf = LinearRegression(n_jobs=-1)"
      ],
      "execution_count": 39,
      "outputs": [
        {
          "output_type": "stream",
          "text": [
            "0.9795080168152709\n"
          ],
          "name": "stdout"
        }
      ]
    },
    {
      "metadata": {
        "id": "A6dcprvCtr9S",
        "colab_type": "code",
        "colab": {
          "base_uri": "https://localhost:8080/",
          "height": 85
        },
        "outputId": "a615b127-f72d-40f9-911b-3ad5dea1914b"
      },
      "cell_type": "code",
      "source": [
        "for k in ['linear','poly','rbf','sigmoid']:\n",
        "    clf = svm.SVR(kernel=k)\n",
        "    clf.fit(X_train, y_train)\n",
        "    confidence = clf.score(X_test, y_test)\n",
        "    print(k,confidence)"
      ],
      "execution_count": 40,
      "outputs": [
        {
          "output_type": "stream",
          "text": [
            "linear 0.9785366227412083\n",
            "poly 0.6703492387441443\n",
            "rbf 0.780944065585251\n",
            "sigmoid 0.8962550380580795\n"
          ],
          "name": "stdout"
        }
      ]
    }
  ]
}