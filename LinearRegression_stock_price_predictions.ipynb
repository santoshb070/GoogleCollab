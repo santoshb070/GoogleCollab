{
  "nbformat": 4,
  "nbformat_minor": 0,
  "metadata": {
    "colab": {
      "name": "LinearRegression_stock_price_predictions.ipynb",
      "version": "0.3.2",
      "provenance": [],
      "collapsed_sections": [],
      "include_colab_link": true
    },
    "kernelspec": {
      "name": "python3",
      "display_name": "Python 3"
    }
  },
  "cells": [
    {
      "cell_type": "markdown",
      "metadata": {
        "id": "view-in-github",
        "colab_type": "text"
      },
      "source": [
        "[View in Colaboratory](https://colab.research.google.com/github/santoshb070/GoogleCollab/blob/dev/LinearRegression_stock_price_predictions.ipynb)"
      ]
    },
    {
      "metadata": {
        "id": "4b-gEDEVh2rm",
        "colab_type": "text"
      },
      "cell_type": "markdown",
      "source": [
        "**Imports**"
      ]
    },
    {
      "metadata": {
        "id": "TUUAGBvKUKyD",
        "colab_type": "code",
        "colab": {}
      },
      "cell_type": "code",
      "source": [
        "import numpy as np\n",
        "import tensorflow as tp\n",
        "import pandas as pd\n",
        "import matplotlib as mp\n",
        "!pip install quandl\n",
        "import quandl\n",
        "import scipy as sc\n",
        "!pip install scikit-learn\n",
        "import sklearn as skl"
      ],
      "execution_count": 0,
      "outputs": []
    },
    {
      "metadata": {
        "id": "IsxrlBZRiQSp",
        "colab_type": "text"
      },
      "cell_type": "markdown",
      "source": [
        "**Linear regression is useful for taking continuos data**\n",
        "1. Find the equation that best fits the data\n",
        "2.able to forecast out a specific value\n",
        "\n",
        "Reading Google stock price data and doing some analysis on it"
      ]
    },
    {
      "metadata": {
        "id": "Q3OS5IfEin9R",
        "colab_type": "code",
        "colab": {
          "base_uri": "https://localhost:8080/",
          "height": 408
        },
        "outputId": "d076f308-e96c-4b62-dcee-52aceb5e35a6"
      },
      "cell_type": "code",
      "source": [
        "df = quandl.get(\"WIKI/GOOGL\")\n",
        "print(df.head())\n"
      ],
      "execution_count": 15,
      "outputs": [
        {
          "output_type": "stream",
          "text": [
            "              Open    High     Low    Close      Volume  Ex-Dividend  \\\n",
            "Date                                                                   \n",
            "2004-08-19  100.01  104.06   95.96  100.335  44659000.0          0.0   \n",
            "2004-08-20  101.01  109.08  100.50  108.310  22834300.0          0.0   \n",
            "2004-08-23  110.76  113.48  109.05  109.400  18256100.0          0.0   \n",
            "2004-08-24  111.24  111.60  103.57  104.870  15247300.0          0.0   \n",
            "2004-08-25  104.76  108.00  103.88  106.000   9188600.0          0.0   \n",
            "\n",
            "            Split Ratio  Adj. Open  Adj. High   Adj. Low  Adj. Close  \\\n",
            "Date                                                                   \n",
            "2004-08-19          1.0  50.159839  52.191109  48.128568   50.322842   \n",
            "2004-08-20          1.0  50.661387  54.708881  50.405597   54.322689   \n",
            "2004-08-23          1.0  55.551482  56.915693  54.693835   54.869377   \n",
            "2004-08-24          1.0  55.792225  55.972783  51.945350   52.597363   \n",
            "2004-08-25          1.0  52.542193  54.167209  52.100830   53.164113   \n",
            "\n",
            "            Adj. Volume  \n",
            "Date                     \n",
            "2004-08-19   44659000.0  \n",
            "2004-08-20   22834300.0  \n",
            "2004-08-23   18256100.0  \n",
            "2004-08-24   15247300.0  \n",
            "2004-08-25    9188600.0  \n"
          ],
          "name": "stdout"
        }
      ]
    },
    {
      "metadata": {
        "id": "qbV22hNmlPmM",
        "colab_type": "text"
      },
      "cell_type": "markdown",
      "source": [
        "Here in our data we are having 2 kinds of data like the adjusted data as well as the regular data\n",
        "where \n",
        "regular data is for data that is giving information like the low and high, open and close values of a particular Google stock for a day\n",
        "\n",
        "whereas\n",
        "#adjusted data \n",
        "it is the data about stock splits where the stock value gets halved overtime but the companu value remains the same \n",
        "for example a single stock gets into 2 stocks having price of it becoming halved."
      ]
    },
    {
      "metadata": {
        "id": "I42xDBg_lPjD",
        "colab_type": "text"
      },
      "cell_type": "markdown",
      "source": [
        ""
      ]
    },
    {
      "metadata": {
        "id": "sLDXbSUskwiT",
        "colab_type": "code",
        "colab": {
          "base_uri": "https://localhost:8080/",
          "height": 136
        },
        "outputId": "bf3133c8-abe7-4379-a67f-43c4ff58b34b"
      },
      "cell_type": "code",
      "source": [
        "df = df[['Adj. Open',  'Adj. High',  'Adj. Low',  'Adj. Close', 'Adj. Volume']]\n",
        "print(df.head())"
      ],
      "execution_count": 14,
      "outputs": [
        {
          "output_type": "stream",
          "text": [
            "            Adj. Open  Adj. High   Adj. Low  Adj. Close  Adj. Volume\n",
            "Date                                                                \n",
            "2004-08-19  50.159839  52.191109  48.128568   50.322842   44659000.0\n",
            "2004-08-20  50.661387  54.708881  50.405597   54.322689   22834300.0\n",
            "2004-08-23  55.551482  56.915693  54.693835   54.869377   18256100.0\n",
            "2004-08-24  55.792225  55.972783  51.945350   52.597363   15247300.0\n",
            "2004-08-25  52.542193  54.167209  52.100830   53.164113    9188600.0\n"
          ],
          "name": "stdout"
        }
      ]
    },
    {
      "metadata": {
        "id": "-gjmsB5Jmhl9",
        "colab_type": "text"
      },
      "cell_type": "markdown",
      "source": [
        "#How do you know if you have meaningfull data?\n",
        "\n",
        "If we consider in stock market preiction taking the historical data and expecting the future price is not a good idea\n",
        "\n",
        "#so what is the alternative?\n",
        "\n",
        "Price change and volume over time is a bit better place where we can start."
      ]
    },
    {
      "metadata": {
        "id": "sosegwRimo5q",
        "colab_type": "code",
        "colab": {
          "base_uri": "https://localhost:8080/",
          "height": 408
        },
        "outputId": "2632d596-7c59-4db7-c644-70c9bc579aa2"
      },
      "cell_type": "code",
      "source": [
        "df['HL_PCT'] = (df['Adj. High'] - df['Adj. Low']) / df['Adj. Close'] * 100.0\n",
        "print(df.head())"
      ],
      "execution_count": 17,
      "outputs": [
        {
          "output_type": "stream",
          "text": [
            "              Open    High     Low    Close      Volume  Ex-Dividend  \\\n",
            "Date                                                                   \n",
            "2004-08-19  100.01  104.06   95.96  100.335  44659000.0          0.0   \n",
            "2004-08-20  101.01  109.08  100.50  108.310  22834300.0          0.0   \n",
            "2004-08-23  110.76  113.48  109.05  109.400  18256100.0          0.0   \n",
            "2004-08-24  111.24  111.60  103.57  104.870  15247300.0          0.0   \n",
            "2004-08-25  104.76  108.00  103.88  106.000   9188600.0          0.0   \n",
            "\n",
            "            Split Ratio  Adj. Open  Adj. High   Adj. Low  Adj. Close  \\\n",
            "Date                                                                   \n",
            "2004-08-19          1.0  50.159839  52.191109  48.128568   50.322842   \n",
            "2004-08-20          1.0  50.661387  54.708881  50.405597   54.322689   \n",
            "2004-08-23          1.0  55.551482  56.915693  54.693835   54.869377   \n",
            "2004-08-24          1.0  55.792225  55.972783  51.945350   52.597363   \n",
            "2004-08-25          1.0  52.542193  54.167209  52.100830   53.164113   \n",
            "\n",
            "            Adj. Volume    HL_PCT  \n",
            "Date                               \n",
            "2004-08-19   44659000.0  8.072956  \n",
            "2004-08-20   22834300.0  7.921706  \n",
            "2004-08-23   18256100.0  4.049360  \n",
            "2004-08-24   15247300.0  7.657099  \n",
            "2004-08-25    9188600.0  3.886792  \n"
          ],
          "name": "stdout"
        }
      ]
    },
    {
      "metadata": {
        "id": "nMcyFIVCn16T",
        "colab_type": "code",
        "colab": {}
      },
      "cell_type": "code",
      "source": [
        "df['PCT_change'] = (df['Adj. Close'] - df['Adj. Open']) / df['Adj. Open'] * 100.0"
      ],
      "execution_count": 0,
      "outputs": []
    },
    {
      "metadata": {
        "id": "r0DYSB9rn65_",
        "colab_type": "code",
        "colab": {
          "base_uri": "https://localhost:8080/",
          "height": 136
        },
        "outputId": "41afd853-59aa-4110-f1d3-77fe6cec339d"
      },
      "cell_type": "code",
      "source": [
        "df = df[['Adj. Close', 'HL_PCT', 'PCT_change', 'Adj. Volume']]\n",
        "print(df.head())"
      ],
      "execution_count": 19,
      "outputs": [
        {
          "output_type": "stream",
          "text": [
            "            Adj. Close    HL_PCT  PCT_change  Adj. Volume\n",
            "Date                                                     \n",
            "2004-08-19   50.322842  8.072956    0.324968   44659000.0\n",
            "2004-08-20   54.322689  7.921706    7.227007   22834300.0\n",
            "2004-08-23   54.869377  4.049360   -1.227880   18256100.0\n",
            "2004-08-24   52.597363  7.657099   -5.726357   15247300.0\n",
            "2004-08-25   53.164113  3.886792    1.183658    9188600.0\n"
          ],
          "name": "stdout"
        }
      ]
    }
  ]
}